{
 "cells": [
  {
   "cell_type": "code",
   "execution_count": null,
   "metadata": {},
   "outputs": [],
   "source": [
    "1. A for loop is used for iterating over a sequence (that is either a list, a tuple, a dictionary, a set, or a string)"
   ]
  },
  {
   "cell_type": "code",
   "execution_count": null,
   "metadata": {},
   "outputs": [],
   "source": [
    "Genral Syntax:\n",
    "for tempvar in main var;\n",
    "    print(tempvar)"
   ]
  },
  {
   "cell_type": "code",
   "execution_count": 2,
   "metadata": {},
   "outputs": [
    {
     "name": "stdout",
     "output_type": "stream",
     "text": [
      "Ravali\n",
      "Sai\n",
      "Srinivas\n",
      "Raju\n",
      "Hameed\n",
      "Amala\n",
      "Vamshi\n"
     ]
    }
   ],
   "source": [
    "my_students =['Ravali', 'Sai', 'Srinivas','Raju', 'Hameed','Amala', 'Vamshi']\n",
    "for students in my_students:\n",
    "    print(students) #indentation "
   ]
  },
  {
   "cell_type": "code",
   "execution_count": null,
   "metadata": {},
   "outputs": [],
   "source": [
    "Req: 1 --> Appreceite the stuents\n",
    "Req: 2 --> I am looking forwared to receive your practice file\n",
    "Req: 3 --> To give a thank you note for everyone showing intest in learining python"
   ]
  },
  {
   "cell_type": "code",
   "execution_count": 5,
   "metadata": {},
   "outputs": [
    {
     "name": "stdout",
     "output_type": "stream",
     "text": [
      "Keep up the good work, Ravali.\n",
      "I am looking forward to receive your practice file for the day , Ravali.\n",
      "\n",
      "Keep up the good work, Sai.\n",
      "I am looking forward to receive your practice file for the day , Sai.\n",
      "\n",
      "Keep up the good work, Srinivas.\n",
      "I am looking forward to receive your practice file for the day , Srinivas.\n",
      "\n",
      "Keep up the good work, Raju.\n",
      "I am looking forward to receive your practice file for the day , Raju.\n",
      "\n",
      "Keep up the good work, Hameed.\n",
      "I am looking forward to receive your practice file for the day , Hameed.\n",
      "\n",
      "Keep up the good work, Amala.\n",
      "I am looking forward to receive your practice file for the day , Amala.\n",
      "\n",
      "Keep up the good work, Vamshi.\n",
      "I am looking forward to receive your practice file for the day , Vamshi.\n",
      "\n",
      "Thanks everyone for showing intrestin learining python\n"
     ]
    }
   ],
   "source": [
    "for students in my_students:\n",
    "    print(f\"Keep up the good work, {students}.\") \n",
    "    print(f\"I am looking forward to receive your practice file for the day , {students}.\\n\") \n",
    "print(\"Thanks everyone for showing intrestin learining python\")"
   ]
  },
  {
   "cell_type": "code",
   "execution_count": null,
   "metadata": {},
   "outputs": [],
   "source": []
  },
  {
   "cell_type": "code",
   "execution_count": null,
   "metadata": {},
   "outputs": [],
   "source": [
    "2. If Statement is used for decision making. It will run the body of code only when IF statement is true. \n",
    "When you want to justify one condition while the other condition is not true, then you use \"if statement\"."
   ]
  },
  {
   "cell_type": "code",
   "execution_count": null,
   "metadata": {},
   "outputs": [],
   "source": [
    "Req: it it is bmw --> caps-- BMW"
   ]
  },
  {
   "cell_type": "code",
   "execution_count": 15,
   "metadata": {},
   "outputs": [
    {
     "name": "stdout",
     "output_type": "stream",
     "text": [
      "Audi\n",
      "BMW\n",
      "Tata\n",
      "Benz\n",
      "Tayota\n",
      "Honda\n"
     ]
    }
   ],
   "source": [
    "cars = ['audi','bmw','tata','benz','tayota','honda']\n",
    "for car in cars:\n",
    "    if car =='bmw':\n",
    "        print(car.upper())\n",
    "    else:\n",
    "        print(car.title())"
   ]
  },
  {
   "cell_type": "code",
   "execution_count": null,
   "metadata": {},
   "outputs": [],
   "source": []
  }
 ],
 "metadata": {
  "kernelspec": {
   "display_name": "Python 3",
   "language": "python",
   "name": "python3"
  },
  "language_info": {
   "codemirror_mode": {
    "name": "ipython",
    "version": 3
   },
   "file_extension": ".py",
   "mimetype": "text/x-python",
   "name": "python",
   "nbconvert_exporter": "python",
   "pygments_lexer": "ipython3",
   "version": "3.7.6"
  }
 },
 "nbformat": 4,
 "nbformat_minor": 4
}
