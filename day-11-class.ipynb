{
 "cells": [
  {
   "cell_type": "code",
   "execution_count": null,
   "metadata": {},
   "outputs": [],
   "source": [
    "# Class in python \n",
    "\n",
    "class --> Class is nothing but a blue print of program \n",
    "\n",
    "method --> dealt --> a function written inside class is called as method\n",
    "\n",
    "attiributes --> dealt -->  a var written inside a class is called as attribute \n",
    "\n",
    "self --> a self is a tmp place holder for an object\n",
    "\n",
    "object --> instance of class"
   ]
  },
  {
   "cell_type": "code",
   "execution_count": null,
   "metadata": {},
   "outputs": [],
   "source": [
    "1. it needs to accept the input from the user as the username\n",
    "2. Display username\n",
    "3. greet the user"
   ]
  },
  {
   "cell_type": "code",
   "execution_count": null,
   "metadata": {},
   "outputs": [],
   "source": [
    "fun name --> smallcase name -- for method same rule applies\n",
    "\n",
    "class name --> you have to maintain -- title case\n",
    "\n",
    "Assigning to self"
   ]
  },
  {
   "cell_type": "code",
   "execution_count": 23,
   "metadata": {},
   "outputs": [],
   "source": [
    "# desiging a simple user class\n",
    "class User:\n",
    "\n",
    "    def createname(self,name):\n",
    "        self.name = name\n",
    "    \n",
    "    def displayname(self):\n",
    "        print(f\"{self.name} is now displaying on the screen\")\n",
    "        \n",
    "    def greetname(self):\n",
    "        print(f\"welcome to our class and good to see you after weekend! {self.name}\")\n",
    "    "
   ]
  },
  {
   "cell_type": "code",
   "execution_count": 24,
   "metadata": {},
   "outputs": [],
   "source": [
    "user=User()"
   ]
  },
  {
   "cell_type": "code",
   "execution_count": 25,
   "metadata": {},
   "outputs": [],
   "source": [
    "user.createname(\"Gunith\")"
   ]
  },
  {
   "cell_type": "code",
   "execution_count": 26,
   "metadata": {},
   "outputs": [
    {
     "name": "stdout",
     "output_type": "stream",
     "text": [
      "Gunith is now displaying on the screen\n"
     ]
    }
   ],
   "source": [
    "user.displayname()"
   ]
  },
  {
   "cell_type": "code",
   "execution_count": 27,
   "metadata": {},
   "outputs": [
    {
     "name": "stdout",
     "output_type": "stream",
     "text": [
      "welcome to our class and good to see you after weekend! Gunith\n"
     ]
    }
   ],
   "source": [
    "user.greetname()"
   ]
  },
  {
   "cell_type": "code",
   "execution_count": null,
   "metadata": {},
   "outputs": [],
   "source": []
  }
 ],
 "metadata": {
  "kernelspec": {
   "display_name": "Python 3",
   "language": "python",
   "name": "python3"
  },
  "language_info": {
   "codemirror_mode": {
    "name": "ipython",
    "version": 3
   },
   "file_extension": ".py",
   "mimetype": "text/x-python",
   "name": "python",
   "nbconvert_exporter": "python",
   "pygments_lexer": "ipython3",
   "version": "3.7.6"
  }
 },
 "nbformat": 4,
 "nbformat_minor": 4
}
