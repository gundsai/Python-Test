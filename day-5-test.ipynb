{
 "cells": [
  {
   "cell_type": "code",
   "execution_count": null,
   "metadata": {},
   "outputs": [],
   "source": [
    "Interduction to list datatypes:\n",
    "    list is a mutable datatype\n",
    "    hoe to define list --> [] --> squre brackets"
   ]
  },
  {
   "cell_type": "code",
   "execution_count": 29,
   "metadata": {},
   "outputs": [
    {
     "name": "stdout",
     "output_type": "stream",
     "text": [
      "['Ravali', 'Sai', 'Srinivas', 'Raju', 'Hameed', 'Amala', 'Vamshi']\n",
      "Vamshi\n"
     ]
    }
   ],
   "source": [
    "students =['Ravali', 'Sai', 'Srinivas','Raju', 'Hameed','Amala', 'Vamshi']\n",
    "print(students)"
   ]
  },
  {
   "cell_type": "code",
   "execution_count": 10,
   "metadata": {},
   "outputs": [
    {
     "name": "stdout",
     "output_type": "stream",
     "text": [
      "7\n"
     ]
    }
   ],
   "source": [
    "print(len(students))"
   ]
  },
  {
   "cell_type": "code",
   "execution_count": 6,
   "metadata": {},
   "outputs": [
    {
     "data": {
      "text/plain": [
       "list"
      ]
     },
     "execution_count": 6,
     "metadata": {},
     "output_type": "execute_result"
    }
   ],
   "source": [
    "type(students)"
   ]
  },
  {
   "cell_type": "code",
   "execution_count": null,
   "metadata": {},
   "outputs": [],
   "source": [
    "How to order emements of items will be mainting ?\n",
    "Understanding Indexing\n",
    "Indexinging starting from 0,1,2, 3...."
   ]
  },
  {
   "cell_type": "code",
   "execution_count": 11,
   "metadata": {},
   "outputs": [
    {
     "name": "stdout",
     "output_type": "stream",
     "text": [
      "Sai\n"
     ]
    }
   ],
   "source": [
    "# How to access elements form the list\n",
    "# Nedd to access Sai form list\n",
    "\n",
    "print(students[1])"
   ]
  },
  {
   "cell_type": "code",
   "execution_count": 31,
   "metadata": {},
   "outputs": [
    {
     "name": "stdout",
     "output_type": "stream",
     "text": [
      "Vamshi\n"
     ]
    }
   ],
   "source": [
    "# Last Index\n",
    "print(students[-1])"
   ]
  },
  {
   "cell_type": "code",
   "execution_count": null,
   "metadata": {},
   "outputs": [],
   "source": [
    "Reassigning, adding and deleting the elementss form the list"
   ]
  },
  {
   "cell_type": "code",
   "execution_count": 12,
   "metadata": {},
   "outputs": [
    {
     "name": "stdout",
     "output_type": "stream",
     "text": [
      "['Ravali', 'Sai', 'Srinivas', 'Raju', 'Hameed', 'Amala', 'Vamshi']\n"
     ]
    }
   ],
   "source": [
    "students =['Ravali', 'Sai', 'Srinivas','Raju', 'Hameed','Amala', 'Vamshi']\n",
    "print(students)"
   ]
  },
  {
   "cell_type": "code",
   "execution_count": 16,
   "metadata": {},
   "outputs": [
    {
     "name": "stdout",
     "output_type": "stream",
     "text": [
      "['Ravali', 'Sai', 'Srinivas', 'Tanusri', 'Hameed', 'Amala', 'Vamshi']\n"
     ]
    }
   ],
   "source": [
    "# Reassign Raju to Tanusri\n",
    "students[3]='Tanusri'\n",
    "print(students)"
   ]
  },
  {
   "cell_type": "code",
   "execution_count": 17,
   "metadata": {},
   "outputs": [
    {
     "name": "stdout",
     "output_type": "stream",
     "text": [
      "['Ravali', 'Sai', 'Srinivas', 'Tanusri', 'Hameed', 'Amala', 'Vamshi', 'Aleem']\n"
     ]
    }
   ],
   "source": [
    "# Adding Aleem to the list\n",
    "students.append('Aleem')\n",
    "print(students)"
   ]
  },
  {
   "cell_type": "code",
   "execution_count": 20,
   "metadata": {},
   "outputs": [
    {
     "name": "stdout",
     "output_type": "stream",
     "text": [
      "['Ravali', 'Sahul', 'Sai', 'Srinivas', 'Tanusri', 'Hameed', 'Amala', 'Vamshi', 'Aleem']\n"
     ]
    }
   ],
   "source": [
    "# Adding Sahul to the list at our own choice of place\n",
    "students.insert(1, 'Sahul')\n",
    "print(students)"
   ]
  },
  {
   "cell_type": "code",
   "execution_count": 32,
   "metadata": {},
   "outputs": [
    {
     "name": "stdout",
     "output_type": "stream",
     "text": [
      "['Ravali', 'Sai', 'Srinivas', 'Raju', 'Hameed', 'Amala', 'Vamshi', 'Anil', 'Hoseph']\n"
     ]
    }
   ],
   "source": [
    "# Extend Index\n",
    "students =['Ravali', 'Sai', 'Srinivas','Raju', 'Hameed','Amala', 'Vamshi']\n",
    "students_b1 =['Anil', 'Hoseph']\n",
    "students.extend(students_b1)\n",
    "print(students)"
   ]
  },
  {
   "cell_type": "code",
   "execution_count": 22,
   "metadata": {},
   "outputs": [
    {
     "name": "stdout",
     "output_type": "stream",
     "text": [
      "['Ravali', 'Sai', 'Srinivas', 'Tanusri', 'Hameed', 'Amala', 'Aleem']\n"
     ]
    }
   ],
   "source": [
    "# Deleting Sahul to the list\n",
    "del students[1]\n",
    "print(students)"
   ]
  },
  {
   "cell_type": "code",
   "execution_count": null,
   "metadata": {},
   "outputs": [],
   "source": [
    "POP Method - By default it will be delating the elementsfrom the end of the list\n",
    "POP will deleting the items permently. it will be creating a varboncopy of the items delated underr the var assigned to it"
   ]
  },
  {
   "cell_type": "code",
   "execution_count": 23,
   "metadata": {},
   "outputs": [
    {
     "name": "stdout",
     "output_type": "stream",
     "text": [
      "['Ravali', 'Sai', 'Srinivas', 'Tanusri', 'Hameed', 'Amala']\n"
     ]
    }
   ],
   "source": [
    "# pop \n",
    "x = students.pop()\n",
    "print(students)"
   ]
  },
  {
   "cell_type": "code",
   "execution_count": 24,
   "metadata": {},
   "outputs": [
    {
     "name": "stdout",
     "output_type": "stream",
     "text": [
      "Aleem\n"
     ]
    }
   ],
   "source": [
    "print(x)"
   ]
  },
  {
   "cell_type": "code",
   "execution_count": null,
   "metadata": {},
   "outputs": [],
   "source": [
    "# Delete the element according to choice --> Alala"
   ]
  },
  {
   "cell_type": "code",
   "execution_count": 25,
   "metadata": {},
   "outputs": [
    {
     "name": "stdout",
     "output_type": "stream",
     "text": [
      "['Ravali', 'Sai', 'Srinivas', 'Tanusri', 'Hameed']\n"
     ]
    }
   ],
   "source": [
    "# pop \n",
    "y = students.pop(5)\n",
    "print(students)"
   ]
  },
  {
   "cell_type": "code",
   "execution_count": 26,
   "metadata": {},
   "outputs": [
    {
     "name": "stdout",
     "output_type": "stream",
     "text": [
      "Amala\n"
     ]
    }
   ],
   "source": [
    "print(y)"
   ]
  },
  {
   "cell_type": "code",
   "execution_count": 38,
   "metadata": {},
   "outputs": [
    {
     "name": "stdout",
     "output_type": "stream",
     "text": [
      "['Amala', 'Anil', 'Hameed', 'Hoseph', 'Raju', 'Ravali', 'Sai', 'Srinivas', 'Vamshi']\n"
     ]
    }
   ],
   "source": [
    "# Sorting Order\n",
    "#students.sort()\n",
    "#students.sort(reverse=True)\n",
    "ss = sorted(students)\n",
    "print(ss)"
   ]
  },
  {
   "cell_type": "code",
   "execution_count": 43,
   "metadata": {},
   "outputs": [
    {
     "name": "stdout",
     "output_type": "stream",
     "text": [
      "7\n",
      "1\n",
      "28\n"
     ]
    }
   ],
   "source": [
    "# MIN, MIX, SUM\n",
    "nums = [1,5,3,6,2,4,7]\n",
    "print(max(nums))\n",
    "print(min(nums))\n",
    "print(sum(nums))"
   ]
  },
  {
   "cell_type": "code",
   "execution_count": null,
   "metadata": {},
   "outputs": [],
   "source": []
  }
 ],
 "metadata": {
  "kernelspec": {
   "display_name": "Python 3",
   "language": "python",
   "name": "python3"
  },
  "language_info": {
   "codemirror_mode": {
    "name": "ipython",
    "version": 3
   },
   "file_extension": ".py",
   "mimetype": "text/x-python",
   "name": "python",
   "nbconvert_exporter": "python",
   "pygments_lexer": "ipython3",
   "version": "3.7.6"
  }
 },
 "nbformat": 4,
 "nbformat_minor": 4
}
