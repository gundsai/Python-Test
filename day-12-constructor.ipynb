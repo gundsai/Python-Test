{
 "cells": [
  {
   "cell_type": "code",
   "execution_count": null,
   "metadata": {},
   "outputs": [],
   "source": [
    "Introduction Constructor --\n",
    "    A Class is like an object constructor, or a \"blueprint\" for creating objects.\n",
    "the built-in __init__() function --\n",
    "    All classes have a function called __init__(), which is always executed when the class is being initiated.\n",
    "    Use the __init__() function to assign values to object properties, or\n",
    "    other operations that are necessary to do when the object is being created:\n",
    "\n"
   ]
  },
  {
   "cell_type": "code",
   "execution_count": null,
   "metadata": {},
   "outputs": [],
   "source": [
    "Req: Create a Dog class\n",
    "    1. Special method , name and age of the dog.\n",
    "    2. method i want to create\n",
    "    sit, sleep and roll over"
   ]
  },
  {
   "cell_type": "code",
   "execution_count": 10,
   "metadata": {},
   "outputs": [],
   "source": [
    "# desiging a constructor\n",
    "class Dog:\n",
    "\n",
    "    def __init__(self,name, age):\n",
    "        self.name = name #dog.name = Tinku\n",
    "        self.age = age\n",
    "    \n",
    "    def sit(self):\n",
    "        print(f\"{self.name} is now sitting\")\n",
    "        \n",
    "    def rollover(self):\n",
    "        print(f\"{self.name} is now rolling over\")\n",
    "    \n",
    "        \n",
    "    def sleep(self):\n",
    "        print(f\"{self.name} is now sleeping...\")\n",
    "        "
   ]
  },
  {
   "cell_type": "code",
   "execution_count": 11,
   "metadata": {},
   "outputs": [],
   "source": [
    "dog = Dog(\"Tinku\",3) # passing thr arguments"
   ]
  },
  {
   "cell_type": "code",
   "execution_count": 4,
   "metadata": {},
   "outputs": [
    {
     "name": "stdout",
     "output_type": "stream",
     "text": [
      "Tinku is now sitting\n"
     ]
    }
   ],
   "source": [
    "dog.sit()"
   ]
  },
  {
   "cell_type": "code",
   "execution_count": 5,
   "metadata": {},
   "outputs": [
    {
     "name": "stdout",
     "output_type": "stream",
     "text": [
      "Tinku is now rolling over\n"
     ]
    }
   ],
   "source": [
    "dog.rollover()"
   ]
  },
  {
   "cell_type": "code",
   "execution_count": 12,
   "metadata": {},
   "outputs": [
    {
     "name": "stdout",
     "output_type": "stream",
     "text": [
      "Tinku is now sleeping...\n"
     ]
    }
   ],
   "source": [
    "dog.sleep()"
   ]
  },
  {
   "cell_type": "code",
   "execution_count": null,
   "metadata": {},
   "outputs": [],
   "source": []
  }
 ],
 "metadata": {
  "kernelspec": {
   "display_name": "Python 3",
   "language": "python",
   "name": "python3"
  },
  "language_info": {
   "codemirror_mode": {
    "name": "ipython",
    "version": 3
   },
   "file_extension": ".py",
   "mimetype": "text/x-python",
   "name": "python",
   "nbconvert_exporter": "python",
   "pygments_lexer": "ipython3",
   "version": "3.7.6"
  }
 },
 "nbformat": 4,
 "nbformat_minor": 4
}
